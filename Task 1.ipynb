{
 "cells": [
  {
   "cell_type": "code",
   "execution_count": 94,
   "id": "4dd1b51f",
   "metadata": {
    "scrolled": true
   },
   "outputs": [
    {
     "name": "stdout",
     "output_type": "stream",
     "text": [
      "Defaulting to user installation because normal site-packages is not writeable\n",
      "Requirement already satisfied: split-folders in c:\\users\\mazen ali\\appdata\\roaming\\python\\python310\\site-packages (0.5.1)\n"
     ]
    }
   ],
   "source": [
    "!pip install split-folders\n"
   ]
  },
  {
   "cell_type": "code",
   "execution_count": 95,
   "id": "4e4e6e34",
   "metadata": {},
   "outputs": [
    {
     "name": "stdout",
     "output_type": "stream",
     "text": [
      "Defaulting to user installation because normal site-packages is not writeable\n",
      "Requirement already satisfied: graphviz in c:\\users\\mazen ali\\appdata\\roaming\\python\\python310\\site-packages (0.20.1)\n",
      "Note: you may need to restart the kernel to use updated packages.\n"
     ]
    }
   ],
   "source": [
    "pip install graphviz "
   ]
  },
  {
   "cell_type": "code",
   "execution_count": 96,
   "id": "03b1b186",
   "metadata": {},
   "outputs": [
    {
     "name": "stdout",
     "output_type": "stream",
     "text": [
      "Defaulting to user installation because normal site-packages is not writeable\n",
      "Requirement already satisfied: seaborn in c:\\users\\mazen ali\\appdata\\roaming\\python\\python310\\site-packages (0.12.2)\n",
      "Requirement already satisfied: numpy!=1.24.0,>=1.17 in c:\\users\\mazen ali\\appdata\\roaming\\python\\python310\\site-packages (from seaborn) (1.24.3)\n",
      "Requirement already satisfied: pandas>=0.25 in c:\\programdata\\anaconda3\\envs\\tensorflow\\lib\\site-packages (from seaborn) (1.5.3)\n",
      "Requirement already satisfied: matplotlib!=3.6.1,>=3.1 in c:\\programdata\\anaconda3\\envs\\tensorflow\\lib\\site-packages (from seaborn) (3.7.2)\n",
      "Requirement already satisfied: contourpy>=1.0.1 in c:\\programdata\\anaconda3\\envs\\tensorflow\\lib\\site-packages (from matplotlib!=3.6.1,>=3.1->seaborn) (1.1.0)\n",
      "Requirement already satisfied: cycler>=0.10 in c:\\programdata\\anaconda3\\envs\\tensorflow\\lib\\site-packages (from matplotlib!=3.6.1,>=3.1->seaborn) (0.11.0)\n",
      "Requirement already satisfied: fonttools>=4.22.0 in c:\\programdata\\anaconda3\\envs\\tensorflow\\lib\\site-packages (from matplotlib!=3.6.1,>=3.1->seaborn) (4.41.0)\n",
      "Requirement already satisfied: kiwisolver>=1.0.1 in c:\\programdata\\anaconda3\\envs\\tensorflow\\lib\\site-packages (from matplotlib!=3.6.1,>=3.1->seaborn) (1.4.4)\n",
      "Requirement already satisfied: packaging>=20.0 in c:\\users\\mazen ali\\appdata\\roaming\\python\\python310\\site-packages (from matplotlib!=3.6.1,>=3.1->seaborn) (23.1)\n",
      "Requirement already satisfied: pillow>=6.2.0 in c:\\programdata\\anaconda3\\envs\\tensorflow\\lib\\site-packages (from matplotlib!=3.6.1,>=3.1->seaborn) (10.0.0)\n",
      "Requirement already satisfied: pyparsing<3.1,>=2.3.1 in c:\\programdata\\anaconda3\\envs\\tensorflow\\lib\\site-packages (from matplotlib!=3.6.1,>=3.1->seaborn) (3.0.9)\n",
      "Requirement already satisfied: python-dateutil>=2.7 in c:\\programdata\\anaconda3\\envs\\tensorflow\\lib\\site-packages (from matplotlib!=3.6.1,>=3.1->seaborn) (2.8.2)\n",
      "Requirement already satisfied: pytz>=2020.1 in c:\\programdata\\anaconda3\\envs\\tensorflow\\lib\\site-packages (from pandas>=0.25->seaborn) (2022.7)\n",
      "Requirement already satisfied: six>=1.5 in c:\\users\\mazen ali\\appdata\\roaming\\python\\python310\\site-packages (from python-dateutil>=2.7->matplotlib!=3.6.1,>=3.1->seaborn) (1.16.0)\n"
     ]
    }
   ],
   "source": [
    "!pip install seaborn"
   ]
  },
  {
   "cell_type": "code",
   "execution_count": 1,
   "id": "e20e3692",
   "metadata": {},
   "outputs": [],
   "source": [
    "import numpy as np\n",
    "import pandas as pd\n",
    "import os,os.path\n",
    "import splitfolders\n",
    "import shutil\n",
    "import cv2\n",
    "import pickle\n",
    "import tensorflow as tf\n",
    "import seaborn as sns\n",
    "import matplotlib.pyplot as plt\n",
    "import matplotlib.image as mpimg\n",
    "import matplotlib\n",
    "import keras.backend as K\n",
    "import tensorflow as tf\n",
    "from tensorflow import keras\n",
    "from tensorflow.keras import layers\n",
    "from tensorflow.keras.layers import Convolution2D\n",
    "from tensorflow.keras.models import Sequential\n",
    "from tensorflow.keras.preprocessing import image_dataset_from_directory\n",
    "from tensorflow.keras.layers import Conv2D, MaxPooling2D, Activation, Flatten, Dense, Dropout, BatchNormalization\n",
    "from tensorflow.keras.losses import SparseCategoricalCrossentropy\n",
    "from tensorflow.keras.regularizers import l2\n",
    "from tensorflow.keras.preprocessing import image_dataset_from_directory\n",
    "from keras.preprocessing.image import ImageDataGenerator\n",
    "\n",
    "matplotlib.style.use('ggplot')\n",
    "%matplotlib inline\n"
   ]
  },
  {
   "cell_type": "code",
   "execution_count": 98,
   "id": "af273298",
   "metadata": {},
   "outputs": [],
   "source": [
    "gpus = tf.config.experimental.list_physical_devices('GPU')\n",
    "for gpu in gpus: \n",
    "    tf.config.experimental.set_memory_growth(gpu, True)"
   ]
  },
  {
   "cell_type": "code",
   "execution_count": 99,
   "id": "214042d4",
   "metadata": {},
   "outputs": [
    {
     "data": {
      "text/plain": [
       "[PhysicalDevice(name='/physical_device:GPU:0', device_type='GPU')]"
      ]
     },
     "execution_count": 99,
     "metadata": {},
     "output_type": "execute_result"
    }
   ],
   "source": [
    "tf.config.list_physical_devices('GPU')"
   ]
  },
  {
   "cell_type": "code",
   "execution_count": 100,
   "id": "27bdef3f",
   "metadata": {},
   "outputs": [],
   "source": [
    "EPOCHS = 20\n",
    "INIT_LR = 0.001\n",
    "default_image_size = tuple((256, 256))\n",
    "image_size = 0\n",
    "directory_root = 'C:\\\\Users\\\\Mazen Ali\\\\Documents\\\\plantvillage_dataset\\\\color'\n",
    "width=256\n",
    "height=256\n",
    "depth=3"
   ]
  },
  {
   "cell_type": "code",
   "execution_count": 43,
   "id": "4f50ef59",
   "metadata": {},
   "outputs": [
    {
     "data": {
      "text/html": [
       "<div>\n",
       "<style scoped>\n",
       "    .dataframe tbody tr th:only-of-type {\n",
       "        vertical-align: middle;\n",
       "    }\n",
       "\n",
       "    .dataframe tbody tr th {\n",
       "        vertical-align: top;\n",
       "    }\n",
       "\n",
       "    .dataframe thead th {\n",
       "        text-align: right;\n",
       "    }\n",
       "</style>\n",
       "<table border=\"1\" class=\"dataframe\">\n",
       "  <thead>\n",
       "    <tr style=\"text-align: right;\">\n",
       "      <th></th>\n",
       "      <th>Plant</th>\n",
       "      <th>Disease</th>\n",
       "      <th>Directory</th>\n",
       "      <th>Files</th>\n",
       "    </tr>\n",
       "  </thead>\n",
       "  <tbody>\n",
       "    <tr>\n",
       "      <th>0</th>\n",
       "      <td>Apple</td>\n",
       "      <td>Apple_scab</td>\n",
       "      <td>Apple___Apple_scab</td>\n",
       "      <td>630</td>\n",
       "    </tr>\n",
       "    <tr>\n",
       "      <th>1</th>\n",
       "      <td>Apple</td>\n",
       "      <td>Black_rot</td>\n",
       "      <td>Apple___Black_rot</td>\n",
       "      <td>621</td>\n",
       "    </tr>\n",
       "    <tr>\n",
       "      <th>2</th>\n",
       "      <td>Apple</td>\n",
       "      <td>Cedar_apple_rust</td>\n",
       "      <td>Apple___Cedar_apple_rust</td>\n",
       "      <td>275</td>\n",
       "    </tr>\n",
       "    <tr>\n",
       "      <th>3</th>\n",
       "      <td>Apple</td>\n",
       "      <td>healthy</td>\n",
       "      <td>Apple___healthy</td>\n",
       "      <td>1645</td>\n",
       "    </tr>\n",
       "    <tr>\n",
       "      <th>4</th>\n",
       "      <td>Blueberry</td>\n",
       "      <td>healthy</td>\n",
       "      <td>Blueberry___healthy</td>\n",
       "      <td>1502</td>\n",
       "    </tr>\n",
       "    <tr>\n",
       "      <th>5</th>\n",
       "      <td>Cherry_(including_sour)</td>\n",
       "      <td>healthy</td>\n",
       "      <td>Cherry_(including_sour)___healthy</td>\n",
       "      <td>854</td>\n",
       "    </tr>\n",
       "    <tr>\n",
       "      <th>6</th>\n",
       "      <td>Cherry_(including_sour)</td>\n",
       "      <td>Powdery_mildew</td>\n",
       "      <td>Cherry_(including_sour)___Powdery_mildew</td>\n",
       "      <td>1052</td>\n",
       "    </tr>\n",
       "    <tr>\n",
       "      <th>10</th>\n",
       "      <td>Corn_(maize)</td>\n",
       "      <td>Northern_Leaf_Blight</td>\n",
       "      <td>Corn_(maize)___Northern_Leaf_Blight</td>\n",
       "      <td>985</td>\n",
       "    </tr>\n",
       "    <tr>\n",
       "      <th>9</th>\n",
       "      <td>Corn_(maize)</td>\n",
       "      <td>healthy</td>\n",
       "      <td>Corn_(maize)___healthy</td>\n",
       "      <td>1162</td>\n",
       "    </tr>\n",
       "    <tr>\n",
       "      <th>7</th>\n",
       "      <td>Corn_(maize)</td>\n",
       "      <td>Cercospora_leaf_spot Gray_leaf_spot</td>\n",
       "      <td>Corn_(maize)___Cercospora_leaf_spot Gray_leaf_...</td>\n",
       "      <td>513</td>\n",
       "    </tr>\n",
       "    <tr>\n",
       "      <th>8</th>\n",
       "      <td>Corn_(maize)</td>\n",
       "      <td>Common_rust_</td>\n",
       "      <td>Corn_(maize)___Common_rust_</td>\n",
       "      <td>1192</td>\n",
       "    </tr>\n",
       "    <tr>\n",
       "      <th>11</th>\n",
       "      <td>Grape</td>\n",
       "      <td>Black_rot</td>\n",
       "      <td>Grape___Black_rot</td>\n",
       "      <td>1180</td>\n",
       "    </tr>\n",
       "    <tr>\n",
       "      <th>12</th>\n",
       "      <td>Grape</td>\n",
       "      <td>Esca_(Black_Measles)</td>\n",
       "      <td>Grape___Esca_(Black_Measles)</td>\n",
       "      <td>1383</td>\n",
       "    </tr>\n",
       "    <tr>\n",
       "      <th>13</th>\n",
       "      <td>Grape</td>\n",
       "      <td>healthy</td>\n",
       "      <td>Grape___healthy</td>\n",
       "      <td>423</td>\n",
       "    </tr>\n",
       "    <tr>\n",
       "      <th>14</th>\n",
       "      <td>Grape</td>\n",
       "      <td>Leaf_blight_(Isariopsis_Leaf_Spot)</td>\n",
       "      <td>Grape___Leaf_blight_(Isariopsis_Leaf_Spot)</td>\n",
       "      <td>1076</td>\n",
       "    </tr>\n",
       "    <tr>\n",
       "      <th>15</th>\n",
       "      <td>Orange</td>\n",
       "      <td>Haunglongbing_(Citrus_greening)</td>\n",
       "      <td>Orange___Haunglongbing_(Citrus_greening)</td>\n",
       "      <td>5507</td>\n",
       "    </tr>\n",
       "    <tr>\n",
       "      <th>17</th>\n",
       "      <td>Peach</td>\n",
       "      <td>healthy</td>\n",
       "      <td>Peach___healthy</td>\n",
       "      <td>360</td>\n",
       "    </tr>\n",
       "    <tr>\n",
       "      <th>16</th>\n",
       "      <td>Peach</td>\n",
       "      <td>Bacterial_spot</td>\n",
       "      <td>Peach___Bacterial_spot</td>\n",
       "      <td>2297</td>\n",
       "    </tr>\n",
       "    <tr>\n",
       "      <th>19</th>\n",
       "      <td>Pepper,_bell</td>\n",
       "      <td>healthy</td>\n",
       "      <td>Pepper,_bell___healthy</td>\n",
       "      <td>1478</td>\n",
       "    </tr>\n",
       "    <tr>\n",
       "      <th>18</th>\n",
       "      <td>Pepper,_bell</td>\n",
       "      <td>Bacterial_spot</td>\n",
       "      <td>Pepper,_bell___Bacterial_spot</td>\n",
       "      <td>997</td>\n",
       "    </tr>\n",
       "    <tr>\n",
       "      <th>20</th>\n",
       "      <td>Potato</td>\n",
       "      <td>Early_blight</td>\n",
       "      <td>Potato___Early_blight</td>\n",
       "      <td>1000</td>\n",
       "    </tr>\n",
       "    <tr>\n",
       "      <th>21</th>\n",
       "      <td>Potato</td>\n",
       "      <td>healthy</td>\n",
       "      <td>Potato___healthy</td>\n",
       "      <td>152</td>\n",
       "    </tr>\n",
       "    <tr>\n",
       "      <th>22</th>\n",
       "      <td>Potato</td>\n",
       "      <td>Late_blight</td>\n",
       "      <td>Potato___Late_blight</td>\n",
       "      <td>1000</td>\n",
       "    </tr>\n",
       "    <tr>\n",
       "      <th>23</th>\n",
       "      <td>Raspberry</td>\n",
       "      <td>healthy</td>\n",
       "      <td>Raspberry___healthy</td>\n",
       "      <td>371</td>\n",
       "    </tr>\n",
       "    <tr>\n",
       "      <th>24</th>\n",
       "      <td>Soybean</td>\n",
       "      <td>healthy</td>\n",
       "      <td>Soybean___healthy</td>\n",
       "      <td>5090</td>\n",
       "    </tr>\n",
       "    <tr>\n",
       "      <th>25</th>\n",
       "      <td>Squash</td>\n",
       "      <td>Powdery_mildew</td>\n",
       "      <td>Squash___Powdery_mildew</td>\n",
       "      <td>1835</td>\n",
       "    </tr>\n",
       "    <tr>\n",
       "      <th>26</th>\n",
       "      <td>Strawberry</td>\n",
       "      <td>healthy</td>\n",
       "      <td>Strawberry___healthy</td>\n",
       "      <td>456</td>\n",
       "    </tr>\n",
       "    <tr>\n",
       "      <th>27</th>\n",
       "      <td>Strawberry</td>\n",
       "      <td>Leaf_scorch</td>\n",
       "      <td>Strawberry___Leaf_scorch</td>\n",
       "      <td>1109</td>\n",
       "    </tr>\n",
       "    <tr>\n",
       "      <th>35</th>\n",
       "      <td>Tomato</td>\n",
       "      <td>Target_Spot</td>\n",
       "      <td>Tomato___Target_Spot</td>\n",
       "      <td>1404</td>\n",
       "    </tr>\n",
       "    <tr>\n",
       "      <th>34</th>\n",
       "      <td>Tomato</td>\n",
       "      <td>Spider_mites Two-spotted_spider_mite</td>\n",
       "      <td>Tomato___Spider_mites Two-spotted_spider_mite</td>\n",
       "      <td>1676</td>\n",
       "    </tr>\n",
       "    <tr>\n",
       "      <th>33</th>\n",
       "      <td>Tomato</td>\n",
       "      <td>Septoria_leaf_spot</td>\n",
       "      <td>Tomato___Septoria_leaf_spot</td>\n",
       "      <td>1771</td>\n",
       "    </tr>\n",
       "    <tr>\n",
       "      <th>32</th>\n",
       "      <td>Tomato</td>\n",
       "      <td>Leaf_Mold</td>\n",
       "      <td>Tomato___Leaf_Mold</td>\n",
       "      <td>952</td>\n",
       "    </tr>\n",
       "    <tr>\n",
       "      <th>28</th>\n",
       "      <td>Tomato</td>\n",
       "      <td>Bacterial_spot</td>\n",
       "      <td>Tomato___Bacterial_spot</td>\n",
       "      <td>2127</td>\n",
       "    </tr>\n",
       "    <tr>\n",
       "      <th>30</th>\n",
       "      <td>Tomato</td>\n",
       "      <td>healthy</td>\n",
       "      <td>Tomato___healthy</td>\n",
       "      <td>1591</td>\n",
       "    </tr>\n",
       "    <tr>\n",
       "      <th>29</th>\n",
       "      <td>Tomato</td>\n",
       "      <td>Early_blight</td>\n",
       "      <td>Tomato___Early_blight</td>\n",
       "      <td>1000</td>\n",
       "    </tr>\n",
       "    <tr>\n",
       "      <th>36</th>\n",
       "      <td>Tomato</td>\n",
       "      <td>Tomato_mosaic_virus</td>\n",
       "      <td>Tomato___Tomato_mosaic_virus</td>\n",
       "      <td>373</td>\n",
       "    </tr>\n",
       "    <tr>\n",
       "      <th>31</th>\n",
       "      <td>Tomato</td>\n",
       "      <td>Late_blight</td>\n",
       "      <td>Tomato___Late_blight</td>\n",
       "      <td>1909</td>\n",
       "    </tr>\n",
       "    <tr>\n",
       "      <th>37</th>\n",
       "      <td>Tomato</td>\n",
       "      <td>Tomato_Yellow_Leaf_Curl_Virus</td>\n",
       "      <td>Tomato___Tomato_Yellow_Leaf_Curl_Virus</td>\n",
       "      <td>5357</td>\n",
       "    </tr>\n",
       "  </tbody>\n",
       "</table>\n",
       "</div>"
      ],
      "text/plain": [
       "                      Plant                               Disease  \\\n",
       "0                     Apple                            Apple_scab   \n",
       "1                     Apple                             Black_rot   \n",
       "2                     Apple                      Cedar_apple_rust   \n",
       "3                     Apple                               healthy   \n",
       "4                 Blueberry                               healthy   \n",
       "5   Cherry_(including_sour)                               healthy   \n",
       "6   Cherry_(including_sour)                        Powdery_mildew   \n",
       "10             Corn_(maize)                  Northern_Leaf_Blight   \n",
       "9              Corn_(maize)                               healthy   \n",
       "7              Corn_(maize)   Cercospora_leaf_spot Gray_leaf_spot   \n",
       "8              Corn_(maize)                          Common_rust_   \n",
       "11                    Grape                             Black_rot   \n",
       "12                    Grape                  Esca_(Black_Measles)   \n",
       "13                    Grape                               healthy   \n",
       "14                    Grape    Leaf_blight_(Isariopsis_Leaf_Spot)   \n",
       "15                   Orange       Haunglongbing_(Citrus_greening)   \n",
       "17                    Peach                               healthy   \n",
       "16                    Peach                        Bacterial_spot   \n",
       "19             Pepper,_bell                               healthy   \n",
       "18             Pepper,_bell                        Bacterial_spot   \n",
       "20                   Potato                          Early_blight   \n",
       "21                   Potato                               healthy   \n",
       "22                   Potato                           Late_blight   \n",
       "23                Raspberry                               healthy   \n",
       "24                  Soybean                               healthy   \n",
       "25                   Squash                        Powdery_mildew   \n",
       "26               Strawberry                               healthy   \n",
       "27               Strawberry                           Leaf_scorch   \n",
       "35                   Tomato                           Target_Spot   \n",
       "34                   Tomato  Spider_mites Two-spotted_spider_mite   \n",
       "33                   Tomato                    Septoria_leaf_spot   \n",
       "32                   Tomato                             Leaf_Mold   \n",
       "28                   Tomato                        Bacterial_spot   \n",
       "30                   Tomato                               healthy   \n",
       "29                   Tomato                          Early_blight   \n",
       "36                   Tomato                   Tomato_mosaic_virus   \n",
       "31                   Tomato                           Late_blight   \n",
       "37                   Tomato         Tomato_Yellow_Leaf_Curl_Virus   \n",
       "\n",
       "                                            Directory  Files  \n",
       "0                                  Apple___Apple_scab    630  \n",
       "1                                   Apple___Black_rot    621  \n",
       "2                            Apple___Cedar_apple_rust    275  \n",
       "3                                     Apple___healthy   1645  \n",
       "4                                 Blueberry___healthy   1502  \n",
       "5                   Cherry_(including_sour)___healthy    854  \n",
       "6            Cherry_(including_sour)___Powdery_mildew   1052  \n",
       "10                Corn_(maize)___Northern_Leaf_Blight    985  \n",
       "9                              Corn_(maize)___healthy   1162  \n",
       "7   Corn_(maize)___Cercospora_leaf_spot Gray_leaf_...    513  \n",
       "8                         Corn_(maize)___Common_rust_   1192  \n",
       "11                                  Grape___Black_rot   1180  \n",
       "12                       Grape___Esca_(Black_Measles)   1383  \n",
       "13                                    Grape___healthy    423  \n",
       "14         Grape___Leaf_blight_(Isariopsis_Leaf_Spot)   1076  \n",
       "15           Orange___Haunglongbing_(Citrus_greening)   5507  \n",
       "17                                    Peach___healthy    360  \n",
       "16                             Peach___Bacterial_spot   2297  \n",
       "19                             Pepper,_bell___healthy   1478  \n",
       "18                      Pepper,_bell___Bacterial_spot    997  \n",
       "20                              Potato___Early_blight   1000  \n",
       "21                                   Potato___healthy    152  \n",
       "22                               Potato___Late_blight   1000  \n",
       "23                                Raspberry___healthy    371  \n",
       "24                                  Soybean___healthy   5090  \n",
       "25                            Squash___Powdery_mildew   1835  \n",
       "26                               Strawberry___healthy    456  \n",
       "27                           Strawberry___Leaf_scorch   1109  \n",
       "35                               Tomato___Target_Spot   1404  \n",
       "34      Tomato___Spider_mites Two-spotted_spider_mite   1676  \n",
       "33                        Tomato___Septoria_leaf_spot   1771  \n",
       "32                                 Tomato___Leaf_Mold    952  \n",
       "28                            Tomato___Bacterial_spot   2127  \n",
       "30                                   Tomato___healthy   1591  \n",
       "29                              Tomato___Early_blight   1000  \n",
       "36                       Tomato___Tomato_mosaic_virus    373  \n",
       "31                               Tomato___Late_blight   1909  \n",
       "37             Tomato___Tomato_Yellow_Leaf_Curl_Virus   5357  "
      ]
     },
     "execution_count": 43,
     "metadata": {},
     "output_type": "execute_result"
    }
   ],
   "source": [
    "pairs = list()\n",
    "number = list()\n",
    "\n",
    "for directory in os.listdir(path=directory_root):\n",
    "    columns = directory.split('___')\n",
    "    columns.append(directory)\n",
    "    \n",
    "    sub_path = directory_root + '/' + directory\n",
    "    columns.append(len([name for name in os.listdir(path=sub_path)]))\n",
    "    \n",
    "    pairs.append(columns)\n",
    "    \n",
    "pairs = pd.DataFrame(pairs, columns=['Plant', 'Disease', 'Directory', 'Files'])\n",
    "pairs.sort_values(by='Plant')"
   ]
  },
  {
   "cell_type": "code",
   "execution_count": 44,
   "id": "490fc5bd",
   "metadata": {},
   "outputs": [
    {
     "name": "stdout",
     "output_type": "stream",
     "text": [
      "Found 54305 files belonging to 38 classes.\n",
      "Using 43444 files for training.\n"
     ]
    }
   ],
   "source": [
    "train_ds = image_dataset_from_directory(directory_root, \n",
    "                                        seed = 150, \n",
    "                                        image_size=(height, width), \n",
    "                                        validation_split=0.2, \n",
    "                                        subset='training')"
   ]
  },
  {
   "cell_type": "code",
   "execution_count": 45,
   "id": "3de43da1",
   "metadata": {},
   "outputs": [
    {
     "name": "stdout",
     "output_type": "stream",
     "text": [
      "Found 54305 files belonging to 38 classes.\n",
      "Using 10861 files for validation.\n"
     ]
    }
   ],
   "source": [
    "val_ds = image_dataset_from_directory(directory_root, \n",
    "                                      seed = 150, \n",
    "                                      image_size=(height, width), \n",
    "                                      validation_split=0.2, \n",
    "                                      subset='validation')"
   ]
  },
  {
   "cell_type": "code",
   "execution_count": 46,
   "id": "7c4decad",
   "metadata": {},
   "outputs": [
    {
     "name": "stdout",
     "output_type": "stream",
     "text": [
      "Found 54305 files belonging to 38 classes.\n"
     ]
    }
   ],
   "source": [
    "test = image_dataset_from_directory(directory_root, \n",
    "                                      seed = 150, \n",
    "                                      image_size=(height, width), \n",
    "                                      validation_split=None)"
   ]
  },
  {
   "cell_type": "code",
   "execution_count": 47,
   "id": "75b9c015",
   "metadata": {},
   "outputs": [
    {
     "name": "stdout",
     "output_type": "stream",
     "text": [
      "38\n",
      "['Apple___Apple_scab', 'Apple___Black_rot', 'Apple___Cedar_apple_rust', 'Apple___healthy', 'Blueberry___healthy', 'Cherry_(including_sour)___Powdery_mildew', 'Cherry_(including_sour)___healthy', 'Corn_(maize)___Cercospora_leaf_spot Gray_leaf_spot', 'Corn_(maize)___Common_rust_', 'Corn_(maize)___Northern_Leaf_Blight', 'Corn_(maize)___healthy', 'Grape___Black_rot', 'Grape___Esca_(Black_Measles)', 'Grape___Leaf_blight_(Isariopsis_Leaf_Spot)', 'Grape___healthy', 'Orange___Haunglongbing_(Citrus_greening)', 'Peach___Bacterial_spot', 'Peach___healthy', 'Pepper,_bell___Bacterial_spot', 'Pepper,_bell___healthy', 'Potato___Early_blight', 'Potato___Late_blight', 'Potato___healthy', 'Raspberry___healthy', 'Soybean___healthy', 'Squash___Powdery_mildew', 'Strawberry___Leaf_scorch', 'Strawberry___healthy', 'Tomato___Bacterial_spot', 'Tomato___Early_blight', 'Tomato___Late_blight', 'Tomato___Leaf_Mold', 'Tomato___Septoria_leaf_spot', 'Tomato___Spider_mites Two-spotted_spider_mite', 'Tomato___Target_Spot', 'Tomato___Tomato_Yellow_Leaf_Curl_Virus', 'Tomato___Tomato_mosaic_virus', 'Tomato___healthy']\n"
     ]
    }
   ],
   "source": [
    "class_names = train_ds.class_names\n",
    "print(len(class_names))\n",
    "print( class_names)"
   ]
  },
  {
   "cell_type": "code",
   "execution_count": 48,
   "id": "a2427db8",
   "metadata": {},
   "outputs": [],
   "source": [
    "model = Sequential()\n",
    "inputShape = (height, width, depth)\n",
    "chanDim = -1\n",
    "if K.image_data_format() == \"channels_first\":\n",
    "    inputShape = (depth, height, width)\n",
    "    chanDim = 1\n",
    "model.add(Conv2D(32, (3, 3), padding=\"same\",input_shape=inputShape))\n",
    "model.add(Activation(\"relu\"))\n",
    "model.add(BatchNormalization(axis=chanDim))\n",
    "model.add(MaxPooling2D(pool_size=(3, 3)))\n",
    "model.add(Dropout(0.25))\n",
    "model.add(Conv2D(64, (3, 3), padding=\"same\"))\n",
    "model.add(Activation(\"relu\"))\n",
    "model.add(BatchNormalization(axis=chanDim))\n",
    "model.add(Conv2D(64, (3, 3), padding=\"same\"))\n",
    "model.add(Activation(\"relu\"))\n",
    "model.add(BatchNormalization(axis=chanDim))\n",
    "model.add(MaxPooling2D(pool_size=(2, 2)))\n",
    "model.add(Dropout(0.25))\n",
    "model.add(Conv2D(128, (3, 3), padding=\"same\"))\n",
    "model.add(Activation(\"relu\"))\n",
    "model.add(BatchNormalization(axis=chanDim))\n",
    "model.add(Conv2D(128, (3, 3), padding=\"same\"))\n",
    "model.add(Activation(\"relu\"))\n",
    "model.add(BatchNormalization(axis=chanDim))\n",
    "model.add(MaxPooling2D(pool_size=(2, 2)))\n",
    "model.add(Dropout(0.25))\n",
    "model.add(Flatten())\n",
    "model.add(Dense(1024))\n",
    "model.add(Activation(\"relu\"))\n",
    "model.add(BatchNormalization())\n",
    "model.add(Dropout(0.5))\n",
    "model.add(Dense(1024))\n",
    "model.add(Activation(\"softmax\"))"
   ]
  },
  {
   "cell_type": "code",
   "execution_count": 65,
   "id": "d43faff3",
   "metadata": {
    "scrolled": false
   },
   "outputs": [
    {
     "name": "stdout",
     "output_type": "stream",
     "text": [
      "Model: \"sequential_2\"\n",
      "_________________________________________________________________\n",
      " Layer (type)                Output Shape              Param #   \n",
      "=================================================================\n",
      " conv2d_10 (Conv2D)          (None, 256, 256, 32)      896       \n",
      "                                                                 \n",
      " activation_14 (Activation)  (None, 256, 256, 32)      0         \n",
      "                                                                 \n",
      " batch_normalization_12 (Bat  (None, 256, 256, 32)     128       \n",
      " chNormalization)                                                \n",
      "                                                                 \n",
      " max_pooling2d_6 (MaxPooling  (None, 85, 85, 32)       0         \n",
      " 2D)                                                             \n",
      "                                                                 \n",
      " dropout_8 (Dropout)         (None, 85, 85, 32)        0         \n",
      "                                                                 \n",
      " conv2d_11 (Conv2D)          (None, 85, 85, 64)        18496     \n",
      "                                                                 \n",
      " activation_15 (Activation)  (None, 85, 85, 64)        0         \n",
      "                                                                 \n",
      " batch_normalization_13 (Bat  (None, 85, 85, 64)       256       \n",
      " chNormalization)                                                \n",
      "                                                                 \n",
      " conv2d_12 (Conv2D)          (None, 85, 85, 64)        36928     \n",
      "                                                                 \n",
      " activation_16 (Activation)  (None, 85, 85, 64)        0         \n",
      "                                                                 \n",
      " batch_normalization_14 (Bat  (None, 85, 85, 64)       256       \n",
      " chNormalization)                                                \n",
      "                                                                 \n",
      " max_pooling2d_7 (MaxPooling  (None, 42, 42, 64)       0         \n",
      " 2D)                                                             \n",
      "                                                                 \n",
      " dropout_9 (Dropout)         (None, 42, 42, 64)        0         \n",
      "                                                                 \n",
      " conv2d_13 (Conv2D)          (None, 42, 42, 128)       73856     \n",
      "                                                                 \n",
      " activation_17 (Activation)  (None, 42, 42, 128)       0         \n",
      "                                                                 \n",
      " batch_normalization_15 (Bat  (None, 42, 42, 128)      512       \n",
      " chNormalization)                                                \n",
      "                                                                 \n",
      " conv2d_14 (Conv2D)          (None, 42, 42, 128)       147584    \n",
      "                                                                 \n",
      " activation_18 (Activation)  (None, 42, 42, 128)       0         \n",
      "                                                                 \n",
      " batch_normalization_16 (Bat  (None, 42, 42, 128)      512       \n",
      " chNormalization)                                                \n",
      "                                                                 \n",
      " max_pooling2d_8 (MaxPooling  (None, 21, 21, 128)      0         \n",
      " 2D)                                                             \n",
      "                                                                 \n",
      " dropout_10 (Dropout)        (None, 21, 21, 128)       0         \n",
      "                                                                 \n",
      " flatten_2 (Flatten)         (None, 56448)             0         \n",
      "                                                                 \n",
      " dense_4 (Dense)             (None, 1024)              57803776  \n",
      "                                                                 \n",
      " activation_19 (Activation)  (None, 1024)              0         \n",
      "                                                                 \n",
      " batch_normalization_17 (Bat  (None, 1024)             4096      \n",
      " chNormalization)                                                \n",
      "                                                                 \n",
      " dropout_11 (Dropout)        (None, 1024)              0         \n",
      "                                                                 \n",
      " dense_5 (Dense)             (None, 1024)              1049600   \n",
      "                                                                 \n",
      " activation_20 (Activation)  (None, 1024)              0         \n",
      "                                                                 \n",
      "=================================================================\n",
      "Total params: 59,136,896\n",
      "Trainable params: 59,134,016\n",
      "Non-trainable params: 2,880\n",
      "_________________________________________________________________\n"
     ]
    }
   ],
   "source": [
    "model.summary()"
   ]
  },
  {
   "cell_type": "code",
   "execution_count": 66,
   "id": "abc6b925",
   "metadata": {},
   "outputs": [],
   "source": [
    "model.compile(optimizer='adam',\n",
    "              loss=SparseCategoricalCrossentropy(from_logits=True),\n",
    "              metrics=['accuracy'])"
   ]
  },
  {
   "cell_type": "code",
   "execution_count": 51,
   "id": "80af5feb",
   "metadata": {
    "scrolled": false
   },
   "outputs": [
    {
     "name": "stdout",
     "output_type": "stream",
     "text": [
      "Epoch 1/20\n"
     ]
    },
    {
     "name": "stderr",
     "output_type": "stream",
     "text": [
      "C:\\Users\\Mazen Ali\\AppData\\Roaming\\Python\\Python310\\site-packages\\keras\\backend.py:5582: UserWarning: \"`sparse_categorical_crossentropy` received `from_logits=True`, but the `output` argument was produced by a Softmax activation and thus does not represent logits. Was this intended?\n",
      "  output, from_logits = _get_logits(\n"
     ]
    },
    {
     "name": "stdout",
     "output_type": "stream",
     "text": [
      "1358/1358 [==============================] - 137s 100ms/step - loss: 0.9513 - accuracy: 0.7403 - val_loss: 1.2431 - val_accuracy: 0.6867\n",
      "Epoch 2/20\n",
      "1358/1358 [==============================] - 125s 92ms/step - loss: 0.4613 - accuracy: 0.8581 - val_loss: 0.4087 - val_accuracy: 0.8740\n",
      "Epoch 3/20\n",
      "1358/1358 [==============================] - 126s 93ms/step - loss: 0.3267 - accuracy: 0.8961 - val_loss: 0.2647 - val_accuracy: 0.9138\n",
      "Epoch 4/20\n",
      "1358/1358 [==============================] - 132s 97ms/step - loss: 0.2594 - accuracy: 0.9188 - val_loss: 0.3225 - val_accuracy: 0.9067\n",
      "Epoch 5/20\n",
      "1358/1358 [==============================] - 134s 98ms/step - loss: 0.2006 - accuracy: 0.9367 - val_loss: 0.6326 - val_accuracy: 0.8319\n",
      "Epoch 6/20\n",
      "1358/1358 [==============================] - 129s 95ms/step - loss: 0.1457 - accuracy: 0.9546 - val_loss: 0.5312 - val_accuracy: 0.8675\n",
      "Epoch 7/20\n",
      "1358/1358 [==============================] - 131s 96ms/step - loss: 0.1317 - accuracy: 0.9588 - val_loss: 0.2047 - val_accuracy: 0.9397\n",
      "Epoch 8/20\n",
      "1358/1358 [==============================] - 130s 95ms/step - loss: 0.1784 - accuracy: 0.9474 - val_loss: 0.2566 - val_accuracy: 0.9274\n",
      "Epoch 9/20\n",
      "1358/1358 [==============================] - 131s 96ms/step - loss: 0.0819 - accuracy: 0.9729 - val_loss: 0.1690 - val_accuracy: 0.9562\n",
      "Epoch 10/20\n",
      "1358/1358 [==============================] - 131s 96ms/step - loss: 0.0713 - accuracy: 0.9771 - val_loss: 0.3750 - val_accuracy: 0.9102\n",
      "Epoch 11/20\n",
      "1358/1358 [==============================] - 130s 96ms/step - loss: 0.0686 - accuracy: 0.9787 - val_loss: 1.3361 - val_accuracy: 0.8028\n",
      "Epoch 12/20\n",
      "1358/1358 [==============================] - 131s 96ms/step - loss: 0.0745 - accuracy: 0.9782 - val_loss: 0.3766 - val_accuracy: 0.9183\n",
      "Epoch 13/20\n",
      "1358/1358 [==============================] - 131s 96ms/step - loss: 0.0524 - accuracy: 0.9835 - val_loss: 0.2431 - val_accuracy: 0.9430\n",
      "Epoch 14/20\n",
      "1358/1358 [==============================] - 129s 95ms/step - loss: 0.0652 - accuracy: 0.9805 - val_loss: 0.1971 - val_accuracy: 0.9509\n",
      "Epoch 15/20\n",
      "1358/1358 [==============================] - 131s 97ms/step - loss: 0.0426 - accuracy: 0.9866 - val_loss: 0.4463 - val_accuracy: 0.9046\n",
      "Epoch 16/20\n",
      "1358/1358 [==============================] - 131s 96ms/step - loss: 0.0447 - accuracy: 0.9858 - val_loss: 0.1931 - val_accuracy: 0.9588\n",
      "Epoch 17/20\n",
      "1358/1358 [==============================] - 134s 99ms/step - loss: 0.0482 - accuracy: 0.9860 - val_loss: 0.2492 - val_accuracy: 0.9413\n",
      "Epoch 18/20\n",
      "1358/1358 [==============================] - 134s 98ms/step - loss: 0.0389 - accuracy: 0.9873 - val_loss: 0.3229 - val_accuracy: 0.9361\n",
      "Epoch 19/20\n",
      "1358/1358 [==============================] - 133s 98ms/step - loss: 0.0486 - accuracy: 0.9858 - val_loss: 0.1737 - val_accuracy: 0.9596\n",
      "Epoch 20/20\n",
      "1358/1358 [==============================] - 132s 97ms/step - loss: 0.0310 - accuracy: 0.9901 - val_loss: 0.3425 - val_accuracy: 0.9376\n"
     ]
    }
   ],
   "source": [
    "\n",
    "history = model.fit(train_ds,validation_data=val_ds,\n",
    "  epochs=EPOCHS, verbose=1\n",
    ")"
   ]
  },
  {
   "cell_type": "code",
   "execution_count": 67,
   "id": "4ec48eb4",
   "metadata": {
    "scrolled": true
   },
   "outputs": [
    {
     "data": {
      "image/png": "[encoded data removed]",
      "text/plain": [
       "<Figure size 640x480 with 1 Axes>"
      ]
     },
     "metadata": {},
     "output_type": "display_data"
    },
    {
     "data": {
      "image/png": "[encoded data removed]",
      "text/plain": [
       "<Figure size 640x480 with 1 Axes>"
      ]
     },
     "metadata": {},
     "output_type": "display_data"
    }
   ],
   "source": [
    "acc = history.history['accuracy']\n",
    "val_acc = history.history['val_accuracy']\n",
    "loss = history.history['loss']\n",
    "val_loss = history.history['val_loss']\n",
    "epochs = range(1, len(acc) + 1)\n",
    "#Train and validation accuracy\n",
    "plt.plot(epochs, acc, 'b', label='Training accurarcy')\n",
    "plt.plot(epochs, val_acc, 'r', label='Validation accurarcy')\n",
    "plt.title('Training and Validation accurarcy')\n",
    "plt.legend()\n",
    "\n",
    "plt.figure()\n",
    "#Train and validation loss\n",
    "plt.plot(epochs, loss, 'b', label='Training loss')\n",
    "plt.plot(epochs, val_loss, 'r', label='Validation loss')\n",
    "plt.title('Training and Validation loss')\n",
    "plt.legend()\n",
    "plt.show()"
   ]
  },
  {
   "cell_type": "code",
   "execution_count": 110,
   "id": "210a8466",
   "metadata": {
    "scrolled": true
   },
   "outputs": [
    {
     "name": "stdout",
     "output_type": "stream",
     "text": [
      "Calculating model accuracy\n",
      "340/340 [==============================] - 10s 30ms/step - loss: 0.3425 - accuracy: 0.9376\n",
      "Test Accuracy: 93.75748038291931\n"
     ]
    }
   ],
   "source": [
    "print(\"Calculating model accuracy\")\n",
    "scores = model.evaluate(val_ds)\n",
    "print(f\"Test Accuracy: {scores[1]*100}\")"
   ]
  },
  {
   "cell_type": "code",
   "execution_count": null,
   "id": "b2815003",
   "metadata": {},
   "outputs": [],
   "source": []
  }
 ],
 "metadata": {
  "kernelspec": {
   "display_name": "Python 3 (ipykernel)",
   "language": "python",
   "name": "python3"
  },
  "language_info": {
   "codemirror_mode": {
    "name": "ipython",
    "version": 3
   },
   "file_extension": ".py",
   "mimetype": "text/x-python",
   "name": "python",
   "nbconvert_exporter": "python",
   "pygments_lexer": "ipython3",
   "version": "3.10.12"
  }
 },
 "nbformat": 4,
 "nbformat_minor": 5
}
